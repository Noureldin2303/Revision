{
 "cells": [
  {
   "cell_type": "markdown",
   "metadata": {},
   "source": [
    "# OOP Practice Problems\n",
    "\n",
    "## Problem 1: Library Management System\n",
    "Create a system demonstrating inheritance and encapsulation:\n",
    "- `LibraryItem` (base class)\n",
    "- `Book`, `DVD`, `Magazine` (derived classes)\n",
    "- Track borrowing status, due dates\n",
    "- Implement late fee calculations\n",
    "\n"
   ]
  },
  {
   "cell_type": "code",
   "execution_count": null,
   "metadata": {},
   "outputs": [],
   "source": [
    "class LibraryItem:\n",
    "    def __init__(self, title, item_id):\n",
    "        self.__item_id = item_id\n",
    "        self._title = title\n",
    "        self.__is_borrowed = False\n",
    "        self.__due_date = None\n",
    "\n",
    "    # Implement borrowing logic\n",
    "    # Add late fee calculation\n",
    "    # Add return item functionality\n",
    "\n",
    "class Book(LibraryItem):\n",
    "    def __init__(self, title, item_id, author, pages):\n",
    "        super().__init__(title, item_id)\n",
    "        self.author = author\n",
    "        self.pages = pages"
   ]
  },
  {
   "cell_type": "markdown",
   "metadata": {},
   "source": [
    "\n",
    "\n",
    "## Problem 2: Shape Calculator\n",
    "Practice polymorphism and abstraction:\n",
    "- Create different shapes\n",
    "- Calculate area and perimeter\n",
    "- Handle complex calculations\n",
    "\n"
   ]
  },
  {
   "cell_type": "code",
   "execution_count": null,
   "metadata": {},
   "outputs": [],
   "source": [
    "from abc import ABC, abstractmethod\n",
    "import math\n",
    "\n",
    "class Shape(ABC):\n",
    "    @abstractmethod\n",
    "    def area(self):\n",
    "        pass\n",
    "\n",
    "    @abstractmethod\n",
    "    def perimeter(self):\n",
    "        pass\n",
    "\n",
    "# Implement Circle, Triangle, Rectangle"
   ]
  },
  {
   "cell_type": "markdown",
   "metadata": {},
   "source": [
    "\n",
    "\n",
    "## Problem 3: Banking System\n",
    "Exercise encapsulation and composition:\n",
    "- Different account types\n",
    "- Transaction history\n",
    "- Interest calculations\n",
    "- Account holder management\n",
    "\n",
    "## Problem 4: Online Shopping Cart\n",
    "Practice aggregation and composition:\n",
    "- Products\n",
    "- Cart management\n",
    "- Order processing\n",
    "- Payment handling\n",
    "\n",
    "## Problem 5: Game Character System\n",
    "Implement inheritance hierarchy and polymorphism:\n",
    "- Different character types\n",
    "- Special abilities\n",
    "- Combat system\n",
    "- Character progression\n",
    "\n",
    "For each problem, try to:\n",
    "1. Design the class hierarchy\n",
    "2. Implement the required functionality\n",
    "3. Add proper validation\n",
    "4. Write unit tests\n",
    "5. Handle edge cases\n"
   ]
  }
 ],
 "metadata": {
  "language_info": {
   "name": "python"
  }
 },
 "nbformat": 4,
 "nbformat_minor": 2
}
