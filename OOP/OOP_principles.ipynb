{
 "cells": [
  {
   "cell_type": "markdown",
   "metadata": {},
   "source": [
    "\n",
    "1. **Inheritance**\n"
   ]
  },
  {
   "cell_type": "code",
   "execution_count": null,
   "metadata": {},
   "outputs": [],
   "source": [
    "class Employee:\n",
    "    def __init__(self, name, employee_id):\n",
    "        self.name = name\n",
    "        self.employee_id = employee_id\n",
    "        self.base_salary = 50000\n",
    "\n",
    "    def calculate_salary(self):\n",
    "        return self.base_salary\n",
    "\n",
    "class Developer(Employee):\n",
    "    def __init__(self, name, employee_id, programming_languages):\n",
    "        super().__init__(name, employee_id)\n",
    "        self.programming_languages = programming_languages\n",
    "        self.base_salary = 80000  # Developers get higher base salary\n",
    "    \n",
    "    def calculate_salary(self):\n",
    "        # Extra pay for each programming language known\n",
    "        language_bonus = len(self.programming_languages) * 1000\n",
    "        return self.base_salary + language_bonus\n",
    "\n",
    "# Usage\n",
    "dev = Developer(\"John Doe\", \"DEV123\", [\"Python\", \"JavaScript\", \"Java\"])\n",
    "print(dev.calculate_salary())  # Output: 83000"
   ]
  },
  {
   "cell_type": "markdown",
   "metadata": {},
   "source": [
    "*Why Important*: Allows specialized employee types to inherit common attributes while adding or modifying specific behaviors.\n",
    "\n",
    "2. **Encapsulation**\n"
   ]
  },
  {
   "cell_type": "code",
   "execution_count": null,
   "metadata": {},
   "outputs": [],
   "source": [
    "class CreditCard:\n",
    "    def __init__(self, card_number, expiry_date):\n",
    "        self.__card_number = self.__validate_card(card_number)\n",
    "        self.__expiry_date = expiry_date\n",
    "        self.__purchase_history = []\n",
    "        self.__credit_limit = 5000\n",
    "\n",
    "    def __validate_card(self, number):\n",
    "        # Private method for card validation\n",
    "        if len(str(number)) != 16:\n",
    "            raise ValueError(\"Card number must be 16 digits\")\n",
    "        return number\n",
    "\n",
    "    def make_purchase(self, amount):\n",
    "        if self.__check_limit(amount):\n",
    "            self.__purchase_history.append(amount)\n",
    "            return \"Purchase successful\"\n",
    "        return \"Purchase declined: Exceeds credit limit\"\n",
    "\n",
    "    def __check_limit(self, amount):\n",
    "        total_spent = sum(self.__purchase_history) + amount\n",
    "        return total_spent <= self.__credit_limit\n",
    "\n",
    "# Usage\n",
    "card = CreditCard(\"1234567890123456\", \"12/25\")\n",
    "print(card.make_purchase(1000))  # Success\n",
    "# print(card.__card_number)  # Error: private attribute"
   ]
  },
  {
   "cell_type": "markdown",
   "metadata": {},
   "source": [
    "*Why Important*: Prevents direct manipulation of sensitive data and ensures data integrity through controlled access.\n",
    "\n",
    "3. **Polymorphism**\n"
   ]
  },
  {
   "cell_type": "code",
   "execution_count": null,
   "metadata": {},
   "outputs": [],
   "source": [
    "from abc import ABC, abstractmethod\n",
    "\n",
    "class PaymentMethod(ABC):\n",
    "    @abstractmethod\n",
    "    def process_payment(self, amount):\n",
    "        pass\n",
    "\n",
    "class CreditCardPayment(PaymentMethod):\n",
    "    def process_payment(self, amount):\n",
    "        return f\"Processing ${amount} via Credit Card\"\n",
    "\n",
    "class PayPalPayment(PaymentMethod):\n",
    "    def process_payment(self, amount):\n",
    "        return f\"Processing ${amount} via PayPal\"\n",
    "\n",
    "class BitcoinPayment(PaymentMethod):\n",
    "    def process_payment(self, amount):\n",
    "        return f\"Processing ${amount} worth of Bitcoin\"\n",
    "\n",
    "class PaymentProcessor:\n",
    "    def checkout(self, payment_method: PaymentMethod, amount):\n",
    "        return payment_method.process_payment(amount)\n",
    "\n",
    "# Usage\n",
    "processor = PaymentProcessor()\n",
    "credit_card = CreditCardPayment()\n",
    "paypal = PayPalPayment()\n",
    "bitcoin = BitcoinPayment()\n",
    "\n",
    "print(processor.checkout(credit_card, 100))\n",
    "print(processor.checkout(paypal, 100))\n",
    "print(processor.checkout(bitcoin, 100))"
   ]
  },
  {
   "cell_type": "markdown",
   "metadata": {},
   "source": [
    "*Why Important*: Enables flexible and extensible code that can handle different types of objects uniformly.\n",
    "\n",
    "4. **Abstraction**\n"
   ]
  },
  {
   "cell_type": "code",
   "execution_count": null,
   "metadata": {},
   "outputs": [],
   "source": [
    "from abc import ABC, abstractmethod\n",
    "\n",
    "class Database(ABC):\n",
    "    @abstractmethod\n",
    "    def connect(self):\n",
    "        pass\n",
    "    \n",
    "    @abstractmethod\n",
    "    def execute_query(self, query):\n",
    "        pass\n",
    "    \n",
    "    @abstractmethod\n",
    "    def close(self):\n",
    "        pass\n",
    "\n",
    "class MySQLDatabase(Database):\n",
    "    def connect(self):\n",
    "        return \"Connected to MySQL\"\n",
    "    \n",
    "    def execute_query(self, query):\n",
    "        return f\"Executing in MySQL: {query}\"\n",
    "    \n",
    "    def close(self):\n",
    "        return \"MySQL connection closed\"\n",
    "\n",
    "class MongoDatabase(Database):\n",
    "    def connect(self):\n",
    "        return \"Connected to MongoDB\"\n",
    "    \n",
    "    def execute_query(self, query):\n",
    "        return f\"Executing in MongoDB: {query}\"\n",
    "    \n",
    "    def close(self):\n",
    "        return \"MongoDB connection closed\"\n",
    "\n",
    "# Usage\n",
    "def perform_database_operation(db: Database):\n",
    "    db.connect()\n",
    "    db.execute_query(\"SELECT * FROM users\")\n",
    "    db.close()"
   ]
  },
  {
   "cell_type": "markdown",
   "metadata": {},
   "source": [
    "*Why Important*: Hides implementation details and provides a clear interface for different implementations.\n",
    "\n",
    "5. **Association**\n"
   ]
  },
  {
   "cell_type": "code",
   "execution_count": null,
   "metadata": {},
   "outputs": [],
   "source": [
    "class Student:\n",
    "    def __init__(self, name):\n",
    "        self.name = name\n",
    "        self.courses = []\n",
    "\n",
    "class Course:\n",
    "    def __init__(self, name, professor):\n",
    "        self.name = name\n",
    "        self.professor = professor\n",
    "        self.students = []\n",
    "\n",
    "class Professor:\n",
    "    def __init__(self, name):\n",
    "        self.name = name\n",
    "        self.courses_taught = []\n",
    "\n",
    "    def assign_course(self, course):\n",
    "        self.courses_taught.append(course)\n",
    "\n",
    "# Usage\n",
    "prof = Professor(\"Dr. Smith\")\n",
    "course = Course(\"Python 101\", prof)\n",
    "student = Student(\"John Doe\")\n",
    "\n",
    "course.students.append(student)\n",
    "student.courses.append(course)\n",
    "prof.assign_course(course)"
   ]
  },
  {
   "cell_type": "markdown",
   "metadata": {},
   "source": [
    "*Why Important*: Shows how different classes can interact while remaining independent.\n",
    "\n",
    "These examples demonstrate how OOP principles help create more organized, maintainable, and scalable code. Each principle serves a specific purpose in making code more robust and easier to understand.\n"
   ]
  }
 ],
 "metadata": {
  "language_info": {
   "name": "python"
  }
 },
 "nbformat": 4,
 "nbformat_minor": 2
}
