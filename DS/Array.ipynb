{
 "cells": [
  {
   "cell_type": "markdown",
   "metadata": {},
   "source": [
    "# Data Structures in Python\n",
    "\n",
    "## Arrays\n",
    "\n",
    "An array is a collection of items stored at contiguous memory locations. The idea is to store multiple items of the same type together. This makes it easier to calculate the position of each element by simply adding an offset to a base value, i.e., the memory location of the first element of the array (generally denoted by the name of the array).\n",
    "\n",
    "### Array Methods\n"
   ]
  },
  {
   "cell_type": "markdown",
   "metadata": {},
   "source": [
    "#### Method 1: `append()`\n",
    "The `append()` method adds an element to the end of the list.\n",
    "\n",
    "```python\n",
    "my_list = [1, 2, 3]\n",
    "my_list.append(4)\n",
    "print(my_list)  # Output: [1, 2, 3, 4]\n",
    "```\n",
    "\n",
    "#### Exercises\n",
    "- **Easy**: Append the number 5 to the list `[1, 2, 3, 4]`.\n",
    "- **Intermediate**: Append the string 'hello' to the list `['a', 'b', 'c']`.\n",
    "- **Hard**: Append a list `[5, 6, 7]` to the list `[1, 2, 3, 4]`.\n"
   ]
  },
  {
   "cell_type": "markdown",
   "metadata": {},
   "source": [
    "#### Method 2: `extend()`\n",
    "The `extend()` method adds all elements of an iterable (list, set, tuple, etc.) to the end of the list.\n",
    "\n",
    "```python\n",
    "my_list = [1, 2, 3]\n",
    "my_list.extend([4, 5, 6])\n",
    "print(my_list)  # Output: [1, 2, 3, 4, 5, 6]\n",
    "```\n",
    "\n",
    "#### Exercises\n",
    "- **Easy**: Extend the list `[1, 2, 3]` with `[4, 5]`.\n",
    "- **Intermediate**: Extend the list `['a', 'b']` with `['c', 'd', 'e']`.\n",
    "- **Hard**: Extend the list `[1, 2, 3]` with a tuple `(4, 5, 6)`.\n"
   ]
  },
  {
   "cell_type": "markdown",
   "metadata": {},
   "source": [
    "#### Method 3: `insert()`\n",
    "The `insert()` method inserts an element at a specified position.\n",
    "\n",
    "```python\n",
    "my_list = [1, 2, 3]\n",
    "my_list.insert(1, 'a')\n",
    "print(my_list)  # Output: [1, 'a', 2, 3]\n",
    "```\n",
    "\n",
    "#### Exercises\n",
    "- **Easy**: Insert the number 0 at the beginning of the list `[1, 2, 3]`.\n",
    "- **Intermediate**: Insert the string 'hello' at index 2 in the list `['a', 'b', 'c']`.\n",
    "- **Hard**: Insert a list `[5, 6]` at index 1 in the list `[1, 2, 3, 4]`.\n"
   ]
  },
  {
   "cell_type": "markdown",
   "metadata": {},
   "source": [
    "#### Method 4: `remove()`\n",
    "The `remove()` method removes the first occurrence of a specified value.\n",
    "\n",
    "```python\n",
    "my_list = [1, 2, 3, 2]\n",
    "my_list.remove(2)\n",
    "print(my_list)  # Output: [1, 3, 2]\n",
    "```\n",
    "\n",
    "#### Exercises\n",
    "- **Easy**: Remove the number 2 from the list `[1, 2, 3]`.\n",
    "- **Intermediate**: Remove the string 'b' from the list `['a', 'b', 'c']`.\n",
    "- **Hard**: Remove the first occurrence of the number 2 from the list `[1, 2, 3, 2, 4]`.\n"
   ]
  },
  {
   "cell_type": "markdown",
   "metadata": {},
   "source": [
    "#### Method 5: `pop()`\n",
    "The `pop()` method removes and returns the element at a specified position (default is the last element).\n",
    "\n",
    "```python\n",
    "my_list = [1, 2, 3]\n",
    "element = my_list.pop()\n",
    "print(element)  # Output: 3\n",
    "print(my_list)  # Output: [1, 2]\n",
    "```\n",
    "\n",
    "#### Exercises\n",
    "- **Easy**: Pop the last element from the list `[1, 2, 3]`.\n",
    "- **Intermediate**: Pop the element at index 1 from the list `['a', 'b', 'c']`.\n",
    "- **Hard**: Pop the first element from the list `[1, 2, 3, 4]`.\n"
   ]
  },
  {
   "cell_type": "markdown",
   "metadata": {},
   "source": [
    "#### Method 6: `index()`\n",
    "The `index()` method returns the index of the first occurrence of a specified value.\n",
    "\n",
    "```python\n",
    "my_list = [1, 2, 3, 2]\n",
    "index = my_list.index(2)\n",
    "print(index)  # Output: 1\n",
    "```\n",
    "\n",
    "#### Exercises\n",
    "- **Easy**: Find the index of the number 2 in the list `[1, 2, 3]`.\n",
    "- **Intermediate**: Find the index of the string 'b' in the list `['a', 'b', 'c']`.\n",
    "- **Hard**: Find the index of the first occurrence of the number 2 in the list `[1, 2, 3, 2, 4]`.\n"
   ]
  },
  {
   "cell_type": "markdown",
   "metadata": {},
   "source": [
    "#### Method 7: `count()`\n",
    "The `count()` method returns the number of occurrences of a specified value.\n",
    "\n",
    "```python\n",
    "my_list = [1, 2, 3, 2]\n",
    "count = my_list.count(2)\n",
    "print(count)  # Output: 2\n",
    "```\n",
    "\n",
    "#### Exercises\n",
    "- **Easy**: Count the number of occurrences of the number 2 in the list `[1, 2, 3]`.\n",
    "- **Intermediate**: Count the number of occurrences of the string 'b' in the list `['a', 'b', 'c', 'b']`.\n",
    "- **Hard**: Count the number of occurrences of the number 2 in the list `[1, 2, 3, 2, 4, 2]`.\n"
   ]
  },
  {
   "cell_type": "markdown",
   "metadata": {},
   "source": [
    "#### Method 8: `sort()`\n",
    "The `sort()` method sorts the list in ascending order by default.\n",
    "\n",
    "```python\n",
    "my_list = [3, 1, 2]\n",
    "my_list.sort()\n",
    "print(my_list)  # Output: [1, 2, 3]\n",
    "```\n",
    "\n",
    "#### Exercises\n",
    "- **Easy**: Sort the list `[3, 1, 2]` in ascending order.\n",
    "- **Intermediate**: Sort the list `['c', 'a', 'b']` in ascending order.\n",
    "- **Hard**: Sort the list `[3, 1, 2]` in descending order.\n"
   ]
  },
  {
   "cell_type": "markdown",
   "metadata": {},
   "source": [
    "#### Method 9: `reverse()`\n",
    "The `reverse()` method reverses the elements of the list in place.\n",
    "\n",
    "```python\n",
    "my_list = [1, 2, 3]\n",
    "my_list.reverse()\n",
    "print(my_list)  # Output: [3, 2, 1]\n",
    "```\n",
    "\n",
    "#### Exercises\n",
    "- **Easy**: Reverse the list `[1, 2, 3]`.\n",
    "- **Intermediate**: Reverse the list `['a', 'b', 'c']`.\n",
    "- **Hard**: Reverse the list `[1, 2, 3, 4, 5]`.\n"
   ]
  },
  {
   "cell_type": "markdown",
   "metadata": {},
   "source": [
    "#### Method 10: `concat()`\n",
    "The `concat()` method is not available in Python lists. Instead, you can use the `+` operator to concatenate lists.\n",
    "\n",
    "```python\n",
    "list1 = [1, 2, 3]\n",
    "list2 = [4, 5, 6]\n",
    "concatenated_list = list1 + list2\n",
    "print(concatenated_list)  # Output: [1, 2, 3, 4, 5, 6]\n",
    "```\n",
    "\n",
    "#### Exercises\n",
    "- **Easy**: Concatenate the lists `[1, 2]` and `[3, 4]`.\n",
    "- **Intermediate**: Concatenate the lists `['a', 'b']` and `['c', 'd']`.\n",
    "- **Hard**: Concatenate the lists `[1, 2, 3]` and `[4, 5, 6, 7]`.\n"
   ]
  },
  {
   "cell_type": "markdown",
   "metadata": {},
   "source": [
    "#### Method 11: `copyWithin()`\n",
    "The `copyWithin()` method is not available in Python lists. Instead, you can use slicing to achieve similar functionality.\n",
    "\n",
    "```python\n",
    "my_list = [1, 2, 3, 4, 5]\n",
    "my_list[0:2] = my_list[2:4]\n",
    "print(my_list)  # Output: [3, 4, 3, 4, 5]\n",
    "```\n",
    "\n",
    "#### Exercises\n",
    "- **Easy**: Copy the elements from index 2 to 4 to the beginning of the list `[1, 2, 3, 4, 5]`.\n",
    "- **Intermediate**: Copy the elements from index 1 to 3 to the end of the list `[1, 2, 3, 4, 5]`.\n",
    "- **Hard**: Copy the elements from index 0 to 2 to the middle of the list `[1, 2, 3, 4, 5, 6]`.\n"
   ]
  },
  {
   "cell_type": "markdown",
   "metadata": {},
   "source": [
    "#### Method 12: `every()`\n",
    "The `every()` method is not available in Python lists. Instead, you can use the `all()` function to achieve similar functionality.\n",
    "\n",
    "```python\n",
    "my_list = [1, 2, 3, 4, 5]\n",
    "result = all(x > 0 for x in my_list)\n",
    "print(result)  # Output: True\n",
    "```\n",
    "\n",
    "#### Exercises\n",
    "- **Easy**: Check if all elements in the list `[1, 2, 3]` are greater than 0.\n",
    "- **Intermediate**: Check if all elements in the list `[1, 2, 3, -1]` are positive.\n",
    "- **Hard**: Check if all elements in the list `[1, 2, 3, 4, 5]` are even.\n"
   ]
  },
  {
   "cell_type": "markdown",
   "metadata": {},
   "source": [
    "#### Method 13: `filter()`\n",
    "The `filter()` method creates a new list with all elements that pass the test implemented by the provided function.\n",
    "\n",
    "```python\n",
    "my_list = [1, 2, 3, 4, 5]\n",
    "filtered_list = list(filter(lambda x: x > 2, my_list))\n",
    "print(filtered_list)  # Output: [3, 4, 5]\n",
    "```\n",
    "\n",
    "#### Exercises\n",
    "- **Easy**: Filter the list `[1, 2, 3]` to include only elements greater than 1.\n",
    "- **Intermediate**: Filter the list `[1, 2, 3, 4]` to include only even numbers.\n",
    "- **Hard**: Filter the list `[1, 2, 3, 4, 5]` to include only elements greater than 3.\n"
   ]
  },
  {
   "cell_type": "markdown",
   "metadata": {},
   "source": [
    "#### Method 14: `flat()`\n",
    "The `flat()` method is not available in Python lists. Instead, you can use list comprehensions or the `itertools.chain` method to achieve similar functionality.\n",
    "\n",
    "```python\n",
    "nested_list = [[1, 2], [3, 4], [5]]\n",
    "flat_list = [item for sublist in nested_list for item in sublist]\n",
    "print(flat_list)  # Output: [1, 2, 3, 4, 5]\n",
    "```\n",
    "\n",
    "#### Exercises\n",
    "- **Easy**: Flatten the list `[[1, 2], [3, 4]]`.\n",
    "- **Intermediate**: Flatten the list `[[1, 2], [3, 4], [5, 6]]`.\n",
    "- **Hard**: Flatten the list `[[1, 2, [3, 4]], [5, 6]]`.\n"
   ]
  },
  {
   "cell_type": "markdown",
   "metadata": {},
   "source": [
    "#### Method 15: `flatMap()`\n",
    "The `flatMap()` method is not available in Python lists. Instead, you can use list comprehensions or the `itertools.chain` method to achieve similar functionality.\n",
    "\n",
    "```python\n",
    "nested_list = [[1, 2], [3, 4], [5]]\n",
    "flat_mapped_list = [item * 2 for sublist in nested_list for item in sublist]\n",
    "print(flat_mapped_list)  # Output: [2, 4, 6, 8, 10]\n",
    "```\n",
    "\n",
    "#### Exercises\n",
    "- **Easy**: Flatten and map the list `[[1, 2], [3, 4]]` to double each element.\n",
    "- **Intermediate**: Flatten and map the list `[[1, 2], [3, 4], [5, 6]]` to square each element.\n",
    "- **Hard**: Flatten and map the list `[[1, 2, [3, 4]], [5, 6]]` to add 1 to each element.\n"
   ]
  },
  {
   "cell_type": "markdown",
   "metadata": {},
   "source": [
    "#### Method 16: `forEach()`\n",
    "The `forEach()` method is not available in Python lists. Instead, you can use a `for` loop to achieve similar functionality.\n",
    "\n",
    "```python\n",
    "my_list = [1, 2, 3, 4, 5]\n",
    "for item in my_list:\n",
    "    print(item)\n",
    "```\n",
    "\n",
    "```python\n",
    "arr = [1, 2, 3]\n",
    "forEach_arr = []\n",
    "for x in arr:\n",
    "    forEach_arr.append(x * 2)\n",
    "print(forEach_arr)  # Output: [2, 4, 6]\n",
    "```\n",
    "\n",
    "#### Exercises\n",
    "- **Easy**: Print each element in the list `[1, 2, 3]`.\n",
    "- **Intermediate**: Print each element in the list `['a', 'b', 'c']`.\n",
    "- **Hard**: Print each element in the list `[1, 2, 3, 4, 5]` with its index.\n"
   ]
  },
  {
   "cell_type": "markdown",
   "metadata": {},
   "source": [
    "\n",
    "\n",
    "#### Method 17: indexOf()\n",
    "The `indexOf()` method returns the first index at which a given element can be found in the array.\n"
   ]
  },
  {
   "cell_type": "code",
   "execution_count": null,
   "metadata": {},
   "outputs": [],
   "source": [
    "arr = [1, 2, 3, 2]\n",
    "index = arr.index(2)\n",
    "print(index)  # Output: 1"
   ]
  },
  {
   "cell_type": "markdown",
   "metadata": {},
   "source": [
    "\n",
    "\n",
    "#### Method 18: lastIndexOf()\n",
    "The `lastIndexOf()` method returns the last index at which a given element can be found in the array.\n"
   ]
  },
  {
   "cell_type": "code",
   "execution_count": null,
   "metadata": {},
   "outputs": [],
   "source": [
    "arr = [1, 2, 3, 2]\n",
    "index = len(arr) - 1 - arr[::-1].index(2)\n",
    "print(index)  # Output: 3"
   ]
  },
  {
   "cell_type": "markdown",
   "metadata": {},
   "source": [
    "\n",
    "\n",
    "#### Method 19: map()\n",
    "The `map()` method creates a new array with the results of calling a provided function on every element in the array.\n"
   ]
  },
  {
   "cell_type": "code",
   "execution_count": null,
   "metadata": {},
   "outputs": [],
   "source": [
    "arr = [1, 2, 3]\n",
    "mapped_arr = list(map(lambda x: x * 2, arr))\n",
    "print(mapped_arr)  # Output: [2, 4, 6]"
   ]
  },
  {
   "cell_type": "markdown",
   "metadata": {},
   "source": [
    "\n",
    "\n",
    "#### Method 20: reduce()\n",
    "The `reduce()` method applies a function against an accumulator and each element in the array to reduce it to a single value.\n"
   ]
  },
  {
   "cell_type": "code",
   "execution_count": null,
   "metadata": {},
   "outputs": [],
   "source": [
    "from functools import reduce\n",
    "arr = [1, 2, 3]\n",
    "result = reduce(lambda x, y: x + y, arr)\n",
    "print(result)  # Output: 6"
   ]
  },
  {
   "cell_type": "markdown",
   "metadata": {},
   "source": [
    "\n",
    "\n",
    "#### Method 21: reduceRight()\n",
    "The `reduceRight()` method applies a function against an accumulator and each element in the array (from right to left) to reduce it to a single value.\n"
   ]
  },
  {
   "cell_type": "code",
   "execution_count": null,
   "metadata": {},
   "outputs": [],
   "source": [
    "from functools import reduce\n",
    "arr = [1, 2, 3]\n",
    "result = reduce(lambda x, y: x + y, arr[::-1])\n",
    "print(result)  # Output: 6"
   ]
  },
  {
   "cell_type": "markdown",
   "metadata": {},
   "source": [
    "\n",
    "\n",
    "#### Method 22: slice()\n",
    "The `slice()` method returns a shallow copy of a portion of an array into a new array object.\n"
   ]
  },
  {
   "cell_type": "code",
   "execution_count": null,
   "metadata": {},
   "outputs": [],
   "source": [
    "arr = [1, 2, 3, 4, 5]\n",
    "sliced_arr = arr[1:4]\n",
    "print(sliced_arr)  # Output: [2, 3, 4]"
   ]
  },
  {
   "cell_type": "markdown",
   "metadata": {},
   "source": [
    "\n",
    "\n",
    "#### Method 23: some()\n",
    "The `some()` method tests whether at least one element in the array passes the test implemented by the provided function.\n"
   ]
  },
  {
   "cell_type": "code",
   "execution_count": null,
   "metadata": {},
   "outputs": [],
   "source": [
    "arr = [1, 2, 3, 4, 5]\n",
    "result = any(x > 4 for x in arr)\n",
    "print(result)  # Output: True"
   ]
  },
  {
   "cell_type": "markdown",
   "metadata": {},
   "source": [
    "\n",
    "\n",
    "#### Method 24: sort()\n",
    "The `sort()` method sorts the elements of an array in place and returns the array.\n"
   ]
  },
  {
   "cell_type": "code",
   "execution_count": null,
   "metadata": {},
   "outputs": [],
   "source": [
    "arr = [3, 1, 2]\n",
    "arr.sort()\n",
    "print(arr)  # Output: [1, 2, 3]"
   ]
  },
  {
   "cell_type": "markdown",
   "metadata": {},
   "source": [
    "\n",
    "\n",
    "#### Method 25: splice()\n",
    "The `splice()` method changes the contents of an array by removing or replacing existing elements and/or adding new elements.\n"
   ]
  },
  {
   "cell_type": "code",
   "execution_count": null,
   "metadata": {},
   "outputs": [],
   "source": [
    "arr = [1, 2, 3, 4, 5]\n",
    "arr[1:3] = [6, 7]\n",
    "print(arr)  # Output: [1, 6, 7, 4, 5]"
   ]
  },
  {
   "cell_type": "markdown",
   "metadata": {},
   "source": [
    "\n",
    "\n",
    "### Array Exercises\n",
    "\n",
    "#### Easy Level\n",
    "1. Create an array with the numbers 1 to 10 and print it.\n",
    "2. Append the number 11 to the array and print the result.\n",
    "3. Remove the number 5 from the array and print the result.\n",
    "4. Create an array with the numbers 1 to 5. Use the concat() method to add another array [6, 7, 8] and print the result.\n",
    "5. Create an array with the numbers 1 to 5. Use the reverse() method and then append() the number 6. Print the result.\n",
    "\n",
    "#### Intermediate Level\n",
    "1. Create an array with the numbers 1 to 10. Use the `map()` method to create a new array with each number squared.\n",
    "2. Create an array with the numbers 1 to 10. Use the `filter()` method to create a new array with only the even numbers.\n",
    "3. Create an array with the numbers 1 to 10. Use the `reduce()` method to find the sum of all the numbers.\n",
    "4. Create an array with the numbers 1 to 10. Use the slice() method to get the middle 5 numbers, then use the sort() method to sort them in descending order.\n",
    "5. Create an array with the numbers 1 to 10. Use the splice() method to remove the numbers 4 to 6 and replace them with [40, 50, 60]. Print the result.\n",
    "\n",
    "#### Hard Level\n",
    "1. Create an array with the numbers 1 to 10. Use the `flatMap()` method to create a new array where each number is followed by its square.\n",
    "2. Create an array with the numbers 1 to 10. Use the `reduceRight()` method to find the product of all the numbers.\n",
    "3. Create an array with the numbers 1 to 10. Use the `splice()` method to replace the numbers 5 to 7 with the numbers 50 to 70.\n",
    "4. Create an array with the numbers 1 to 10. Use the map() method to double each number, then use the filter() method to keep only numbers greater than 10.\n",
    "5. Create an array with the numbers 1 to 10. Use the reduce() method to find the sum of all numbers, then use the indexOf() method to find the position of the sum in the original array (if it exists).\n",
    "```"
   ]
  }
 ],
 "metadata": {
  "language_info": {
   "name": "python"
  }
 },
 "nbformat": 4,
 "nbformat_minor": 2
}
